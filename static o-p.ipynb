{
  "nbformat": 4,
  "nbformat_minor": 0,
  "metadata": {
    "colab": {
      "provenance": [],
      "include_colab_link": true
    },
    "kernelspec": {
      "name": "python3",
      "display_name": "Python 3"
    },
    "language_info": {
      "name": "python"
    }
  },
  "cells": [
    {
      "cell_type": "markdown",
      "metadata": {
        "id": "view-in-github",
        "colab_type": "text"
      },
      "source": [
        "<a href=\"https://colab.research.google.com/github/anupojuharshita/PathPlanning/blob/main/static%20o-p.ipynb\" target=\"_parent\"><img src=\"https://colab.research.google.com/assets/colab-badge.svg\" alt=\"Open In Colab\"/></a>"
      ]
    },
    {
      "cell_type": "code",
      "execution_count": null,
      "metadata": {
        "colab": {
          "base_uri": "https://localhost:8080/",
          "height": 53
        },
        "id": "Kvm_OB0Xe3k0",
        "outputId": "57b6c587-3744-4d48-9fff-c6a3981866c6"
      },
      "outputs": [
        {
          "output_type": "stream",
          "name": "stdout",
          "text": [
            "Torch: 2.8.0+cu126 | CUDA available: False\n"
          ]
        },
        {
          "output_type": "execute_result",
          "data": {
            "text/plain": [
              "'cpu'"
            ],
            "application/vnd.google.colaboratory.intrinsic+json": {
              "type": "string"
            }
          },
          "metadata": {},
          "execution_count": 1
        }
      ],
      "source": [
        "import torch, sys\n",
        "print(\"Torch:\", torch.__version__, \"| CUDA available:\", torch.cuda.is_available())\n",
        "device = \"cuda\" if torch.cuda.is_available() else \"cpu\"\n",
        "device\n"
      ]
    },
    {
      "cell_type": "code",
      "source": [
        "from google.colab import files\n",
        "up = files.upload()  # pick st_rdp_dataset_200.npz\n",
        "\n"
      ],
      "metadata": {
        "colab": {
          "base_uri": "https://localhost:8080/",
          "height": 76
        },
        "id": "pkMJuCKBfBeu",
        "outputId": "a3f9c13a-4d80-4f1d-9ba7-0eb8e54263ac"
      },
      "execution_count": null,
      "outputs": [
        {
          "output_type": "display_data",
          "data": {
            "text/plain": [
              "<IPython.core.display.HTML object>"
            ],
            "text/html": [
              "\n",
              "     <input type=\"file\" id=\"files-98a5b9f3-7ee8-45bc-b756-6fb336342f9b\" name=\"files[]\" multiple disabled\n",
              "        style=\"border:none\" />\n",
              "     <output id=\"result-98a5b9f3-7ee8-45bc-b756-6fb336342f9b\">\n",
              "      Upload widget is only available when the cell has been executed in the\n",
              "      current browser session. Please rerun this cell to enable.\n",
              "      </output>\n",
              "      <script>// Copyright 2017 Google LLC\n",
              "//\n",
              "// Licensed under the Apache License, Version 2.0 (the \"License\");\n",
              "// you may not use this file except in compliance with the License.\n",
              "// You may obtain a copy of the License at\n",
              "//\n",
              "//      http://www.apache.org/licenses/LICENSE-2.0\n",
              "//\n",
              "// Unless required by applicable law or agreed to in writing, software\n",
              "// distributed under the License is distributed on an \"AS IS\" BASIS,\n",
              "// WITHOUT WARRANTIES OR CONDITIONS OF ANY KIND, either express or implied.\n",
              "// See the License for the specific language governing permissions and\n",
              "// limitations under the License.\n",
              "\n",
              "/**\n",
              " * @fileoverview Helpers for google.colab Python module.\n",
              " */\n",
              "(function(scope) {\n",
              "function span(text, styleAttributes = {}) {\n",
              "  const element = document.createElement('span');\n",
              "  element.textContent = text;\n",
              "  for (const key of Object.keys(styleAttributes)) {\n",
              "    element.style[key] = styleAttributes[key];\n",
              "  }\n",
              "  return element;\n",
              "}\n",
              "\n",
              "// Max number of bytes which will be uploaded at a time.\n",
              "const MAX_PAYLOAD_SIZE = 100 * 1024;\n",
              "\n",
              "function _uploadFiles(inputId, outputId) {\n",
              "  const steps = uploadFilesStep(inputId, outputId);\n",
              "  const outputElement = document.getElementById(outputId);\n",
              "  // Cache steps on the outputElement to make it available for the next call\n",
              "  // to uploadFilesContinue from Python.\n",
              "  outputElement.steps = steps;\n",
              "\n",
              "  return _uploadFilesContinue(outputId);\n",
              "}\n",
              "\n",
              "// This is roughly an async generator (not supported in the browser yet),\n",
              "// where there are multiple asynchronous steps and the Python side is going\n",
              "// to poll for completion of each step.\n",
              "// This uses a Promise to block the python side on completion of each step,\n",
              "// then passes the result of the previous step as the input to the next step.\n",
              "function _uploadFilesContinue(outputId) {\n",
              "  const outputElement = document.getElementById(outputId);\n",
              "  const steps = outputElement.steps;\n",
              "\n",
              "  const next = steps.next(outputElement.lastPromiseValue);\n",
              "  return Promise.resolve(next.value.promise).then((value) => {\n",
              "    // Cache the last promise value to make it available to the next\n",
              "    // step of the generator.\n",
              "    outputElement.lastPromiseValue = value;\n",
              "    return next.value.response;\n",
              "  });\n",
              "}\n",
              "\n",
              "/**\n",
              " * Generator function which is called between each async step of the upload\n",
              " * process.\n",
              " * @param {string} inputId Element ID of the input file picker element.\n",
              " * @param {string} outputId Element ID of the output display.\n",
              " * @return {!Iterable<!Object>} Iterable of next steps.\n",
              " */\n",
              "function* uploadFilesStep(inputId, outputId) {\n",
              "  const inputElement = document.getElementById(inputId);\n",
              "  inputElement.disabled = false;\n",
              "\n",
              "  const outputElement = document.getElementById(outputId);\n",
              "  outputElement.innerHTML = '';\n",
              "\n",
              "  const pickedPromise = new Promise((resolve) => {\n",
              "    inputElement.addEventListener('change', (e) => {\n",
              "      resolve(e.target.files);\n",
              "    });\n",
              "  });\n",
              "\n",
              "  const cancel = document.createElement('button');\n",
              "  inputElement.parentElement.appendChild(cancel);\n",
              "  cancel.textContent = 'Cancel upload';\n",
              "  const cancelPromise = new Promise((resolve) => {\n",
              "    cancel.onclick = () => {\n",
              "      resolve(null);\n",
              "    };\n",
              "  });\n",
              "\n",
              "  // Wait for the user to pick the files.\n",
              "  const files = yield {\n",
              "    promise: Promise.race([pickedPromise, cancelPromise]),\n",
              "    response: {\n",
              "      action: 'starting',\n",
              "    }\n",
              "  };\n",
              "\n",
              "  cancel.remove();\n",
              "\n",
              "  // Disable the input element since further picks are not allowed.\n",
              "  inputElement.disabled = true;\n",
              "\n",
              "  if (!files) {\n",
              "    return {\n",
              "      response: {\n",
              "        action: 'complete',\n",
              "      }\n",
              "    };\n",
              "  }\n",
              "\n",
              "  for (const file of files) {\n",
              "    const li = document.createElement('li');\n",
              "    li.append(span(file.name, {fontWeight: 'bold'}));\n",
              "    li.append(span(\n",
              "        `(${file.type || 'n/a'}) - ${file.size} bytes, ` +\n",
              "        `last modified: ${\n",
              "            file.lastModifiedDate ? file.lastModifiedDate.toLocaleDateString() :\n",
              "                                    'n/a'} - `));\n",
              "    const percent = span('0% done');\n",
              "    li.appendChild(percent);\n",
              "\n",
              "    outputElement.appendChild(li);\n",
              "\n",
              "    const fileDataPromise = new Promise((resolve) => {\n",
              "      const reader = new FileReader();\n",
              "      reader.onload = (e) => {\n",
              "        resolve(e.target.result);\n",
              "      };\n",
              "      reader.readAsArrayBuffer(file);\n",
              "    });\n",
              "    // Wait for the data to be ready.\n",
              "    let fileData = yield {\n",
              "      promise: fileDataPromise,\n",
              "      response: {\n",
              "        action: 'continue',\n",
              "      }\n",
              "    };\n",
              "\n",
              "    // Use a chunked sending to avoid message size limits. See b/62115660.\n",
              "    let position = 0;\n",
              "    do {\n",
              "      const length = Math.min(fileData.byteLength - position, MAX_PAYLOAD_SIZE);\n",
              "      const chunk = new Uint8Array(fileData, position, length);\n",
              "      position += length;\n",
              "\n",
              "      const base64 = btoa(String.fromCharCode.apply(null, chunk));\n",
              "      yield {\n",
              "        response: {\n",
              "          action: 'append',\n",
              "          file: file.name,\n",
              "          data: base64,\n",
              "        },\n",
              "      };\n",
              "\n",
              "      let percentDone = fileData.byteLength === 0 ?\n",
              "          100 :\n",
              "          Math.round((position / fileData.byteLength) * 100);\n",
              "      percent.textContent = `${percentDone}% done`;\n",
              "\n",
              "    } while (position < fileData.byteLength);\n",
              "  }\n",
              "\n",
              "  // All done.\n",
              "  yield {\n",
              "    response: {\n",
              "      action: 'complete',\n",
              "    }\n",
              "  };\n",
              "}\n",
              "\n",
              "scope.google = scope.google || {};\n",
              "scope.google.colab = scope.google.colab || {};\n",
              "scope.google.colab._files = {\n",
              "  _uploadFiles,\n",
              "  _uploadFilesContinue,\n",
              "};\n",
              "})(self);\n",
              "</script> "
            ]
          },
          "metadata": {}
        },
        {
          "output_type": "stream",
          "name": "stdout",
          "text": [
            "Saving st_rdp_dataset_200.npz to st_rdp_dataset_200.npz\n"
          ]
        }
      ]
    },
    {
      "cell_type": "code",
      "source": [
        "ds_path = \"/content/st_rdp_dataset_200.npz\""
      ],
      "metadata": {
        "id": "wq-E9C8wfLbG"
      },
      "execution_count": null,
      "outputs": []
    },
    {
      "cell_type": "code",
      "source": [
        "import numpy as np\n",
        "import torch\n",
        "from torch.utils.data import Dataset, DataLoader\n",
        "\n",
        "data = np.load(ds_path)\n",
        "R_np, S_np, G_np, T_np = data[\"R\"], data[\"S\"], data[\"G\"], data[\"T\"]\n",
        "N, K, H, W = R_np.shape\n",
        "print(\"Shapes:\", R_np.shape, S_np.shape, G_np.shape, T_np.shape)\n",
        "\n",
        "class TrajDataset(Dataset):\n",
        "    def __init__(self, R, S, G, T):\n",
        "        self.R = R.astype(np.float32)\n",
        "        self.S = S.astype(np.float32)\n",
        "        self.G = G.astype(np.float32)\n",
        "        self.T = T.astype(np.float32)\n",
        "    def __len__(self): return self.R.shape[0]\n",
        "    def __getitem__(self, i):\n",
        "        import torch\n",
        "        return (\n",
        "            torch.from_numpy(self.R[i]),  # (K,H,W)\n",
        "            torch.from_numpy(self.S[i]),  # (4,)\n",
        "            torch.from_numpy(self.G[i]),  # (2,)\n",
        "            torch.from_numpy(self.T[i])   # (K,2)\n",
        "        )\n",
        "\n",
        "idx = np.arange(N); np.random.seed(0); np.random.shuffle(idx)\n",
        "split = int(0.85*N)\n",
        "tr_idx, va_idx = idx[:split], idx[split:]\n",
        "train_ds = TrajDataset(R_np[tr_idx], S_np[tr_idx], G_np[tr_idx], T_np[tr_idx])\n",
        "val_ds   = TrajDataset(R_np[va_idx], S_np[va_idx], G_np[va_idx], T_np[va_idx])\n",
        "\n",
        "train_loader = DataLoader(train_ds, batch_size=32, shuffle=True, drop_last=True)\n",
        "val_loader   = DataLoader(val_ds, batch_size=32, shuffle=False, drop_last=False)\n"
      ],
      "metadata": {
        "colab": {
          "base_uri": "https://localhost:8080/"
        },
        "id": "EEa6GWiPfbp1",
        "outputId": "d19d47a5-d84a-485d-d35c-eed777204f5b"
      },
      "execution_count": null,
      "outputs": [
        {
          "output_type": "stream",
          "name": "stdout",
          "text": [
            "Shapes: (200, 20, 64, 64) (200, 4) (200, 2) (200, 20, 2)\n"
          ]
        }
      ]
    },
    {
      "cell_type": "code",
      "source": [
        "import math\n",
        "import torch.nn as nn\n",
        "import torch.nn.functional as F\n",
        "\n",
        "class ContextEncoder(nn.Module):\n",
        "    def __init__(self, K, H, W, ctx_dim=128):\n",
        "        super().__init__()\n",
        "        in_ch = K  # treat time as channels\n",
        "        self.cnn = nn.Sequential(\n",
        "            nn.Conv2d(in_ch, 16, 5, padding=2), nn.ReLU(),\n",
        "            nn.Conv2d(16, 32, 3, padding=1), nn.ReLU(),\n",
        "            nn.MaxPool2d(2),\n",
        "            nn.Conv2d(32, 64, 3, padding=1), nn.ReLU(),\n",
        "            nn.AdaptiveAvgPool2d(1)\n",
        "        )\n",
        "        self.fc_state = nn.Sequential(\n",
        "            nn.Linear(6, 64), nn.ReLU(),\n",
        "            nn.Linear(64, 64), nn.ReLU()\n",
        "        )\n",
        "        self.fuse = nn.Sequential(nn.Linear(64+64, ctx_dim), nn.ReLU())\n",
        "    def forward(self, R, s, g):\n",
        "        x = self.cnn(R)[:, :, 0, 0]       # (B,64)\n",
        "        sg = torch.cat([s, g], dim=-1)    # (B,6)\n",
        "        sg = self.fc_state(sg)            # (B,64)\n",
        "        return self.fuse(torch.cat([x, sg], dim=-1))  # (B,ctx_dim)\n",
        "\n",
        "class TimeEmbedding(nn.Module):\n",
        "    def __init__(self, dim=64):\n",
        "        super().__init__()\n",
        "        self.fc = nn.Sequential(nn.Linear(dim, dim), nn.SiLU(), nn.Linear(dim, dim))\n",
        "        self.dim = dim\n",
        "    def forward(self, t):  # t in [0,1], shape (B,)\n",
        "        half = self.dim // 2\n",
        "        freqs = torch.arange(half, device=t.device).float()\n",
        "        ang = (2*math.pi) * t[:, None] * freqs[None, :]\n",
        "        emb = torch.cat([torch.sin(ang), torch.cos(ang)], dim=-1)\n",
        "        return self.fc(emb)\n",
        "\n",
        "class TrajUNet1D(nn.Module):\n",
        "    def __init__(self, K, ctx_dim=128, hidden=64):\n",
        "        super().__init__()\n",
        "        self.tproj = nn.Linear(64, hidden)\n",
        "        self.cproj = nn.Linear(ctx_dim, hidden)\n",
        "        self.e1 = nn.Conv1d(2, hidden, 3, padding=1)\n",
        "        self.e2 = nn.Conv1d(hidden, hidden, 3, padding=1)\n",
        "        self.d1 = nn.Conv1d(hidden, hidden, 3, padding=1)\n",
        "        self.out = nn.Conv1d(hidden, 2, 3, padding=1)\n",
        "        self.bn = nn.BatchNorm1d(hidden)\n",
        "        self.act = nn.SiLU()\n",
        "    def forward(self, tau_noisy, t_emb, ctx):\n",
        "        x = tau_noisy.permute(0,2,1)     # (B,2,K)\n",
        "        h = self.act(self.e1(x))\n",
        "        h = self.bn(self.act(self.e2(h)))\n",
        "        t = self.tproj(t_emb).unsqueeze(-1)  # (B,H,1)\n",
        "        c = self.cproj(ctx).unsqueeze(-1)    # (B,H,1)\n",
        "        h = h + t + c\n",
        "        h = self.act(self.d1(h))\n",
        "        out = self.out(h)                # (B,2,K)\n",
        "        return out.permute(0,2,1)        # (B,K,2)\n",
        "\n",
        "class ST_RDP(nn.Module):\n",
        "    def __init__(self, K, H, W, ctx_dim=128):\n",
        "        super().__init__()\n",
        "        self.ctx = ContextEncoder(K,H,W,ctx_dim)\n",
        "        self.temb = TimeEmbedding(64)\n",
        "        self.denoiser = TrajUNet1D(K, ctx_dim, hidden=64)\n",
        "    def forward(self, R, s, g, tau_noisy, t_scalar):\n",
        "        t_emb = self.temb(t_scalar)\n",
        "        ctx = self.ctx(R, s, g)\n",
        "        return self.denoiser(tau_noisy, t_emb, ctx)\n",
        "\n",
        "model = ST_RDP(K=K, H=H, W=W).to(device)\n",
        "sum(p.numel() for p in model.parameters())/1e6\n"
      ],
      "metadata": {
        "colab": {
          "base_uri": "https://localhost:8080/"
        },
        "id": "IvgyOv2AffoT",
        "outputId": "39fb2f64-7d56-4f30-b928-950f17525f88"
      },
      "execution_count": null,
      "outputs": [
        {
          "output_type": "execute_result",
          "data": {
            "text/plain": [
              "0.098674"
            ]
          },
          "metadata": {},
          "execution_count": 5
        }
      ]
    },
    {
      "cell_type": "code",
      "source": [
        "def beta_schedule(T=200, start=1e-4, end=0.02, device=\"cpu\"):\n",
        "    return torch.linspace(start, end, T, device=device)\n",
        "\n",
        "def index_like(a, t, x):\n",
        "    return a.gather(0, t).reshape(x.shape[0], *((1,)*(x.ndim-1)))\n",
        "\n",
        "def soft_collision_penalty(traj, R, res=1.0, origin=(0.0,0.0)):\n",
        "    # traj: (B,K,2), R: (B,K,H,W) in [0,1]\n",
        "    B,K,_ = traj.shape\n",
        "    H,W = R.shape[2], R.shape[3]\n",
        "    ix = ((traj[...,0]-origin[0]) / res).clamp(0, W-1-1e-6)\n",
        "    iy = ((traj[...,1]-origin[1]) / res).clamp(0, H-1-1e-6)\n",
        "    ix0 = ix.long(); iy0 = iy.long()\n",
        "    risk = R[torch.arange(B)[:,None], torch.arange(K)[None,:], iy0, ix0]  # (B,K)\n",
        "    return risk.mean()\n",
        "\n",
        "def smoothness_penalty(traj):\n",
        "    diffs = traj[:,1:,:]-traj[:,:-1,:]\n",
        "    return (diffs**2).sum(dim=-1).mean()\n",
        "\n",
        "def goal_penalty(traj, g):\n",
        "    end = traj[:,-1,:]\n",
        "    return F.mse_loss(end, g)\n",
        "\n",
        "T_steps = 200\n",
        "betas  = beta_schedule(T_steps, device=device)\n",
        "alphas = 1.0 - betas\n",
        "abar   = torch.cumprod(alphas, dim=0)\n"
      ],
      "metadata": {
        "id": "Sm9S2HXUfi1G"
      },
      "execution_count": null,
      "outputs": []
    },
    {
      "cell_type": "code",
      "source": [
        "import torch.optim as optim\n",
        "import torch.nn.functional as F\n",
        "\n",
        "opt = optim.AdamW(model.parameters(), lr=2e-3)\n",
        "\n",
        "def train_one_epoch(loader):\n",
        "    model.train()\n",
        "    total = 0.0\n",
        "    for R,s,g,tau0 in loader:\n",
        "        R = R.to(device)              # (B,K,H,W)\n",
        "        s = s.to(device)              # (B,4)\n",
        "        g = g.to(device)              # (B,2)\n",
        "        tau0 = tau0.to(device)        # (B,K,2)\n",
        "\n",
        "        B = R.shape[0]\n",
        "        t = torch.randint(0, T_steps, (B,), device=device)\n",
        "        eps = torch.randn_like(tau0)\n",
        "        abar_t = index_like(abar, t, tau0)\n",
        "        tau_t = torch.sqrt(abar_t)*tau0 + torch.sqrt(1-abar_t)*eps\n",
        "        t_norm = (t.float() / (T_steps-1)).clamp(0,1)\n",
        "\n",
        "        eps_hat = model(R, s, g, tau_t, t_norm)\n",
        "        # predict denoising residual; reconstruct tau0 estimate\n",
        "        tau_tilde0 = (tau_t - torch.sqrt(1-abar_t)*eps_hat) / torch.sqrt(abar_t + 1e-8)\n",
        "\n",
        "        loss_eps = F.mse_loss(eps_hat, eps)\n",
        "        Lc = soft_collision_penalty(tau_tilde0, R)\n",
        "        Ls = smoothness_penalty(tau_tilde0)\n",
        "        Lg = goal_penalty(tau_tilde0, g)\n",
        "        loss = loss_eps + 2.0*Lc + 0.1*Ls + 1.0*Lg\n",
        "\n",
        "        opt.zero_grad()\n",
        "        loss.backward()\n",
        "        torch.nn.utils.clip_grad_norm_(model.parameters(), 1.0)\n",
        "        opt.step()\n",
        "        total += float(loss.detach().cpu())\n",
        "    return total/len(loader)\n",
        "\n",
        "EPOCHS = 5   # start small; increase later\n",
        "for e in range(1, EPOCHS+1):\n",
        "    tr = train_one_epoch(train_loader)\n",
        "    print(f\"epoch {e}/{EPOCHS}  train_loss={tr:.4f}\")\n"
      ],
      "metadata": {
        "colab": {
          "base_uri": "https://localhost:8080/"
        },
        "id": "T7asYnYgfnil",
        "outputId": "ca9d20d8-9d45-4497-fb56-e28dc01b3825"
      },
      "execution_count": null,
      "outputs": [
        {
          "output_type": "stream",
          "name": "stdout",
          "text": [
            "epoch 1/5  train_loss=4.7545\n",
            "epoch 2/5  train_loss=4.8160\n",
            "epoch 3/5  train_loss=4.4553\n",
            "epoch 4/5  train_loss=4.3431\n",
            "epoch 5/5  train_loss=3.8553\n"
          ]
        }
      ]
    },
    {
      "cell_type": "code",
      "source": [
        "import numpy as np\n",
        "import torch\n",
        "\n",
        "@torch.no_grad()\n",
        "def sample_trajectories(model, R, s, g, K, N_cand=8, S=60, device=\"cpu\"):\n",
        "    model.eval()\n",
        "    betas  = beta_schedule(T_steps, device=device)\n",
        "    alphas = 1.0 - betas\n",
        "    abar   = torch.cumprod(alphas, dim=0)\n",
        "\n",
        "    B = N_cand\n",
        "    Rb = R.expand(B, -1, -1, -1)\n",
        "    sb = s.expand(B, -1)\n",
        "    gb = g.expand(B, -1)\n",
        "    tau = torch.randn((B, K, 2), device=device)\n",
        "\n",
        "    steps = np.linspace(T_steps-1, 0, S, dtype=int)\n",
        "    for t in steps:\n",
        "        t_tensor = torch.full((B,), float(t)/(T_steps-1), device=device)\n",
        "        eps_hat = model(Rb, sb, gb, tau, t_tensor)\n",
        "        abar_t = abar[t]\n",
        "        alpha_t = alphas[t]\n",
        "        beta_t  = betas[t]\n",
        "        tau0_tilde = (tau - torch.sqrt(1-abar_t)*eps_hat) / torch.sqrt(abar_t + 1e-8)\n",
        "        if t > 0:\n",
        "            noise = torch.randn_like(tau)\n",
        "            tau = torch.sqrt(alpha_t)*tau + torch.sqrt(1-alpha_t)*eps_hat + torch.sqrt(beta_t)*noise\n",
        "        else:\n",
        "            tau = tau0_tilde\n",
        "\n",
        "    # score candidates (risk + goal) and pick best\n",
        "    def risk_score(traj, R):\n",
        "        B,K,_ = traj.shape\n",
        "        H,W = R.shape[2], R.shape[3]\n",
        "        ix = torch.clamp(traj[...,0], 0, W-1-1e-6).long()\n",
        "        iy = torch.clamp(traj[...,1], 0, H-1-1e-6).long()\n",
        "        risk = R[torch.arange(B)[:,None].to(R.device), torch.arange(K)[None,:].to(R.device), iy, ix].mean(dim=1)\n",
        "        return risk\n",
        "    risk = risk_score(tau, Rb)\n",
        "    goal = torch.linalg.vector_norm(tau[:,-1,:]-gb, dim=-1)\n",
        "    score = 3.0*risk + goal\n",
        "    best = int(torch.argmin(score))\n",
        "    return tau[best].detach()\n",
        "\n",
        "# pick a validation sample\n",
        "vidx = 0\n",
        "R_demo = torch.from_numpy(R_np[va_idx[vidx]][None, ...]).to(device)  # (1,K,H,W)\n",
        "s_demo = torch.from_numpy(S_np[va_idx[vidx]][None, ...]).to(device)  # (1,4)\n",
        "g_demo = torch.from_numpy(G_np[va_idx[vidx]][None, ...]).to(device)  # (1,2)\n",
        "\n",
        "pred_traj = sample_trajectories(model, R_demo, s_demo, g_demo, K, N_cand=8, S=60, device=device)\n",
        "pred_traj.shape\n"
      ],
      "metadata": {
        "colab": {
          "base_uri": "https://localhost:8080/"
        },
        "id": "wU-0aWTafrE8",
        "outputId": "089ae513-3d7a-4f41-817b-c8ef1adcc8ab"
      },
      "execution_count": null,
      "outputs": [
        {
          "output_type": "execute_result",
          "data": {
            "text/plain": [
              "torch.Size([20, 2])"
            ]
          },
          "metadata": {},
          "execution_count": 8
        }
      ]
    },
    {
      "cell_type": "code",
      "source": [
        "import matplotlib.pyplot as plt\n",
        "\n",
        "# pick one scenario\n",
        "i = 0   # try changing this to see different samples\n",
        "k = 0   # timestep (0..19)\n",
        "\n",
        "R_sample = R_np[i, k]      # (64,64) risk map\n",
        "traj = T_np[i]             # (20,2) safe trajectory\n",
        "goal = G_np[i]             # (2,)\n",
        "\n",
        "plt.figure(figsize=(5,5))\n",
        "plt.imshow(R_sample, cmap=\"hot\", origin=\"lower\", vmin=0, vmax=1)  # scale 0-1\n",
        "plt.colorbar(label=\"Risk\")\n",
        "\n",
        "# plot trajectory\n",
        "plt.plot(traj[:,0], traj[:,1], color=\"cyan\", marker=\"o\", label=\"Trajectory\")\n",
        "\n",
        "# plot goal\n",
        "plt.plot(goal[0], goal[1], \"bx\", markersize=12, label=\"Goal\")\n",
        "\n",
        "plt.title(f\"Scenario {i}, timestep {k}\")\n",
        "plt.legend()\n",
        "plt.show()\n"
      ],
      "metadata": {
        "colab": {
          "base_uri": "https://localhost:8080/",
          "height": 435
        },
        "id": "UjF0ST1PhRD6",
        "outputId": "4dcc4cdf-b6a0-4487-c8b6-b64daaac3962"
      },
      "execution_count": null,
      "outputs": [
        {
          "output_type": "display_data",
          "data": {
            "text/plain": [
              "<Figure size 500x500 with 2 Axes>"
            ],
            "image/png": "[encoded data removed]"
          },
          "metadata": {}
        }
      ]
    },
    {
      "cell_type": "code",
      "source": [
        "from matplotlib.animation import PillowWriter\n",
        "gif_path = \"st_rdp_sim.gif\"\n",
        "anim.save(gif_path, writer=PillowWriter(fps=6))\n",
        "gif_path\n"
      ],
      "metadata": {
        "colab": {
          "base_uri": "https://localhost:8080/",
          "height": 36
        },
        "id": "DJ8Tx_6ff5qC",
        "outputId": "6a665be0-10fe-45c9-df6a-36b0e61afa07"
      },
      "execution_count": null,
      "outputs": [
        {
          "output_type": "execute_result",
          "data": {
            "text/plain": [
              "'st_rdp_sim.gif'"
            ],
            "application/vnd.google.colaboratory.intrinsic+json": {
              "type": "string"
            }
          },
          "metadata": {},
          "execution_count": 10
        }
      ]
    },
    {
      "cell_type": "code",
      "source": [
        "!apt -y install ffmpeg\n",
        "mp4_path = \"st_rdp_sim.mp4\"\n",
        "anim.save(mp4_path, writer=\"ffmpeg\", fps=12)\n",
        "mp4_path\n"
      ],
      "metadata": {
        "colab": {
          "base_uri": "https://localhost:8080/",
          "height": 122
        },
        "id": "YxbKNPZsf-D7",
        "outputId": "ba7dc17f-56a3-4ecd-a03c-e6ad5030bbde"
      },
      "execution_count": null,
      "outputs": [
        {
          "output_type": "stream",
          "name": "stdout",
          "text": [
            "Reading package lists... Done\n",
            "Building dependency tree... Done\n",
            "Reading state information... Done\n",
            "ffmpeg is already the newest version (7:4.4.2-0ubuntu0.22.04.1).\n",
            "0 upgraded, 0 newly installed, 0 to remove and 35 not upgraded.\n"
          ]
        },
        {
          "output_type": "execute_result",
          "data": {
            "text/plain": [
              "'st_rdp_sim.mp4'"
            ],
            "application/vnd.google.colaboratory.intrinsic+json": {
              "type": "string"
            }
          },
          "metadata": {},
          "execution_count": 11
        }
      ]
    },
    {
      "cell_type": "code",
      "source": [],
      "metadata": {
        "id": "jDwClRd-gF4Q"
      },
      "execution_count": null,
      "outputs": []
    }
  ]
}